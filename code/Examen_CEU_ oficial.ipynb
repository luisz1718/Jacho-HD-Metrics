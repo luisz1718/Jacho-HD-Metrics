{
 "cells": [
  {
   "cell_type": "markdown",
   "metadata": {},
   "source": [
    "# BCRP\n",
    "## 2024 University Extension Course - High Dimensional Econometrics\n",
    "### Final Exam - Coding"
   ]
  },
  {
   "attachments": {},
   "cell_type": "markdown",
   "metadata": {},
   "source": [
    "**Instructions**: Please write down your code and _execute_ it printing the relevant output before submitting this ```ipynb``` file. Full marks will _not_ be given only for correct answers but for code elegance as well as _elegant_ display of the results. Donwload this notebook with your _executed_ answers as ```XXXX.ipynb``` where ```XXX``` is your student code and mail it to manuel.vasquez@bcrp.gob.pe and luciana.loayza@bcrp.gob.pe."
   ]
  },
  {
   "cell_type": "code",
   "execution_count": 1,
   "metadata": {},
   "outputs": [],
   "source": []
  },
  {
   "cell_type": "code",
   "execution_count": 2,
   "metadata": {},
   "outputs": [
    {
     "name": "stdout",
     "output_type": "stream",
     "text": [
      "\n",
      "  ___  ____  ____  ____  ____ ®\n",
      " /__    /   ____/   /   ____/      17.0\n",
      "___/   /   /___/   /   /___/       MP—Parallel Edition\n",
      "\n",
      " Statistics and Data Science       Copyright 1985-2021 StataCorp LLC\n",
      "                                   StataCorp\n",
      "                                   4905 Lakeway Drive\n",
      "                                   College Station, Texas 77845 USA\n",
      "                                   800-STATA-PC        https://www.stata.com\n",
      "                                   979-696-4600        stata@stata.com\n",
      "\n",
      "Stata license: Single-user 4-core  perpetual\n",
      "Serial number: 501706303466\n",
      "  Licensed to: David Tomas Jacho-Chavez\n",
      "               Emory University\n",
      "\n",
      "Notes:\n",
      "      1. Unicode is supported; see help unicode_advice.\n",
      "      2. More than 2 billion observations are allowed; see help obs_advice.\n",
      "      3. Maximum number of variables is set to 5,000 but can be increased;\n",
      "          see help set_maxvar.\n"
     ]
    }
   ],
   "source": [
    "import stata_setup, os\n",
    "if os.name == 'nt':\n",
    "    stata_setup.config('C:/Program Files/Stata17/','mp')\n",
    "else:\n",
    "    stata_setup.config('/usr/local/stata17','mp')"
   ]
  },
  {
   "cell_type": "markdown",
   "metadata": {},
   "source": [
    "1. Take the ```cpsmar09``` dataset and the subsample of Asian women $(n=1149)$. Estimate a Lasso linear regression of $\\log$ (wage) on the following variables: _education_; dummies for _education_ equalling $12,13,14,15,16,18$, and 20; _experience_/40 in powers from 1 to 9 ; dummies for marriage categories married, divorced, separated, widowed, never married; dummies for the four regions; dummy for union membership. Report the estimated model and coefficients. **Note**: You are welcome to use ```Stata``` default plugin value of the needed hyperparameter with a random seed set to 2024. [20 points]"
   ]
  },
  {
   "cell_type": "code",
   "execution_count": 3,
   "metadata": {},
   "outputs": [],
   "source": [
    "import pandas as pd\n",
    "import numpy as np\n",
    "cps09mar = pd.read_stata('../Data/cps09mar.dta')"
   ]
  },
  {
   "cell_type": "code",
   "execution_count": 4,
   "metadata": {},
   "outputs": [],
   "source": [
    "# We generate the transformation of variables\n",
    "cps09mar['wage'] = np.log(cps09mar.earnings/(cps09mar.hours*cps09mar.week))\n",
    "cps09mar['experience'] = cps09mar.age - cps09mar.education - 6"
   ]
  },
  {
   "cell_type": "code",
   "execution_count": 5,
   "metadata": {},
   "outputs": [
    {
     "name": "stdout",
     "output_type": "stream",
     "text": [
      "\n",
      ". forvalues i=12(1)20 {\n",
      "  2.         gen educ_`i' = 1 if education==`i'\n",
      "  3.     replace educ_`i' = 0 if educ_`i'==.\n",
      "  4. }\n",
      "(36,846 missing values generated)\n",
      "(36,846 real changes made)\n",
      "(41,488 missing values generated)\n",
      "(41,488 real changes made)\n",
      "(45,134 missing values generated)\n",
      "(45,134 real changes made)\n",
      "(50,742 missing values generated)\n",
      "(50,742 real changes made)\n",
      "(39,102 missing values generated)\n",
      "(39,102 real changes made)\n",
      "(50,742 missing values generated)\n",
      "(50,742 real changes made)\n",
      "(46,072 missing values generated)\n",
      "(46,072 real changes made)\n",
      "(50,742 missing values generated)\n",
      "(50,742 real changes made)\n",
      "(48,867 missing values generated)\n",
      "(48,867 real changes made)\n",
      "\n",
      ". drop educ_17 educ_19\n",
      "\n",
      ". \n",
      ". rename educ_12 High_School_Graduate\n",
      "\n",
      ". rename educ_13 College\n",
      "\n",
      ". rename educ_14 Associate_degree\n",
      "\n",
      ". rename educ_16 Bachelors_degree\n",
      "\n",
      ". rename educ_18 Masters_degree\n",
      "\n",
      ". rename educ_20 Doctorate_degree\n",
      "\n",
      ". \n"
     ]
    }
   ],
   "source": [
    "%%stata -d cps09mar -force\n",
    "forvalues i=12(1)20 {\n",
    "\tgen educ_`i' = 1 if education==`i'\n",
    "    replace educ_`i' = 0 if educ_`i'==.\n",
    "}\n",
    "drop educ_17 educ_19\n",
    "\n",
    "rename educ_12 High_School_Graduate\n",
    "rename educ_13 College\n",
    "rename educ_14 Associate_degree\n",
    "rename educ_16 Bachelors_degree\n",
    "rename educ_18 Masters_degree\n",
    "rename educ_20 Doctorate_degree"
   ]
  },
  {
   "cell_type": "code",
   "execution_count": 6,
   "metadata": {},
   "outputs": [
    {
     "name": "stdout",
     "output_type": "stream",
     "text": [
      "\n",
      ". forvalues i=1(1)9 {\n",
      "  2.         gen exp_`i' = (experience/40)^(`i')\n",
      "  3. }\n",
      "\n",
      ". \n"
     ]
    }
   ],
   "source": [
    "%%stata\n",
    "forvalues i=1(1)9 {\n",
    "\tgen exp_`i' = (experience/40)^(`i')\n",
    "}"
   ]
  },
  {
   "cell_type": "code",
   "execution_count": 7,
   "metadata": {},
   "outputs": [
    {
     "name": "stdout",
     "output_type": "stream",
     "text": [
      "\n",
      ". \n",
      ". gen mar_1= 1 if (marital==1 | marital==2 | marital==3)\n",
      "(17,032 missing values generated)\n",
      "\n",
      ". replace mar_1 = 0 if mar_1==. \n",
      "(17,032 real changes made)\n",
      "\n",
      ". forvalues i=4(1)7 {\n",
      "  2.         generate mar_`i' = 1 if (marital==`i')\n",
      "  3.     replace mar_`i' = 0 if mar_`i'==.\n",
      "  4. }\n",
      "(50,030 missing values generated)\n",
      "(50,030 real changes made)\n",
      "(45,290 missing values generated)\n",
      "(45,290 real changes made)\n",
      "(49,667 missing values generated)\n",
      "(49,667 real changes made)\n",
      "(40,949 missing values generated)\n",
      "(40,949 real changes made)\n",
      "\n",
      ". \n",
      ". rename mar_1 Married\n",
      "\n",
      ". rename mar_4 Widowed\n",
      "\n",
      ". rename mar_5 Divorced\n",
      "\n",
      ". rename mar_6 Separated\n",
      "\n",
      ". rename mar_7 Never_married\n",
      "\n",
      ". \n"
     ]
    }
   ],
   "source": [
    "%%stata\n",
    "\n",
    "gen mar_1= 1 if (marital==1 | marital==2 | marital==3)\n",
    "replace mar_1 = 0 if mar_1==. \n",
    "forvalues i=4(1)7 {\n",
    "\tgenerate mar_`i' = 1 if (marital==`i')\n",
    "    replace mar_`i' = 0 if mar_`i'==.\n",
    "}\n",
    "\n",
    "rename mar_1 Married\n",
    "rename mar_4 Widowed\n",
    "rename mar_5 Divorced\n",
    "rename mar_6 Separated\n",
    "rename mar_7 Never_married"
   ]
  },
  {
   "cell_type": "code",
   "execution_count": 8,
   "metadata": {},
   "outputs": [
    {
     "name": "stdout",
     "output_type": "stream",
     "text": [
      "\n",
      ". forvalues i=1(1)4 {\n",
      "  2.         generate region_`i' = 1 if region==`i'\n",
      "  3.     replace region_`i' = 0 if region_`i'==.\n",
      "  4. }\n",
      "(41,043 missing values generated)\n",
      "(41,043 real changes made)\n",
      "(38,717 missing values generated)\n",
      "(38,717 real changes made)\n",
      "(34,658 missing values generated)\n",
      "(34,658 real changes made)\n",
      "(37,808 missing values generated)\n",
      "(37,808 real changes made)\n",
      "\n",
      ". \n",
      ". rename region_1 Northeast\n",
      "\n",
      ". rename region_2 Midwest\n",
      "\n",
      ". rename region_3 South\n",
      "\n",
      ". rename region_4 West\n",
      "\n",
      ". \n"
     ]
    }
   ],
   "source": [
    "%%stata\n",
    "forvalues i=1(1)4 {\n",
    "\tgenerate region_`i' = 1 if region==`i'\n",
    "    replace region_`i' = 0 if region_`i'==.\n",
    "}\n",
    "\n",
    "rename region_1 Northeast\n",
    "rename region_2 Midwest\n",
    "rename region_3 South\n",
    "rename region_4 West"
   ]
  },
  {
   "cell_type": "code",
   "execution_count": 9,
   "metadata": {},
   "outputs": [
    {
     "name": "stdout",
     "output_type": "stream",
     "text": [
      "\n",
      ". global region Midwest South West\n",
      "\n",
      ". global educ High_School_Graduate College Associate_degree educ_15 Bachelors_d\n",
      "> egree Masters_degree Doctorate_degree \n",
      "\n",
      ". global marriage Widowed Divorced Separated Never_married\n",
      "\n",
      ". global exper exp_1 exp_2 exp_3 exp_4 exp_5 exp_6 exp_7 exp_8 exp_9\n",
      "\n",
      ". \n",
      ". # Solo las variables de matrimonio y de región requieren eliminar una categor\n",
      "> ía base.\n",
      "Unknown #command\n",
      ". \n"
     ]
    }
   ],
   "source": [
    "%%stata\n",
    "global region Midwest South West\n",
    "global educ High_School_Graduate College Associate_degree educ_15 Bachelors_degree Masters_degree Doctorate_degree \n",
    "global marriage Widowed Divorced Separated Never_married\n",
    "global exper exp_1 exp_2 exp_3 exp_4 exp_5 exp_6 exp_7 exp_8 exp_9\n",
    "\n",
    "# Solo las variables de matrimonio y de región requieren eliminar una categoría base."
   ]
  },
  {
   "cell_type": "code",
   "execution_count": 10,
   "metadata": {},
   "outputs": [
    {
     "name": "stdout",
     "output_type": "stream",
     "text": [
      "\n",
      "note: convergence for the lasso penalty = 0.000192 not reached after 100000\n",
      "      iterations; solutions for larger penalty values returned.\n",
      "\n",
      "Lasso linear model                          No. of obs        =      1,149\n",
      "                                            No. of covariates =         30\n",
      "Selection: Cross-validation                 No. of CV folds   =         20\n",
      "\n",
      "--------------------------------------------------------------------------\n",
      "         |                                No. of      Out-of-      CV mean\n",
      "         |                               nonzero       sample   prediction\n",
      "      ID |     Description      lambda     coef.    R-squared        error\n",
      "---------+----------------------------------------------------------------\n",
      "       1 |    first lambda    .2064107         0      -0.0017     .4615709\n",
      "      71 |   lambda before    .0003065        24       0.2644     .3389903\n",
      "    * 72 | selected lambda    .0002793        24       0.2645     .3389424\n",
      "      73 |    lambda after    .0002545        24       0.2644     .3389803\n",
      "      75 |     last lambda    .0002113        25\n",
      "--------------------------------------------------------------------------\n",
      "* lambda selected by cross-validation.\n",
      "------------------------------------------------------------------------------\n",
      "        wage | Coefficient\n",
      "-------------+----------------------------------------------------------------\n",
      "   education |\n",
      "          0  |  -.3356245\n",
      "          4  |  -.7331844\n",
      "          6  |   -.537403\n",
      "          8  |  -.5785494\n",
      "          9  |  -.6956214\n",
      "         10  |  -.3681711\n",
      "         11  |  -.5037335\n",
      "         16  |   .3247784\n",
      "         18  |   .4787662\n",
      "         20  |   .7076654\n",
      "             |\n",
      "High_Schoo~e |  -.3316324\n",
      "     College |  -.1826528\n",
      "       exp_1 |   1.169834\n",
      "       exp_2 |  -1.434057\n",
      "       exp_4 |    .541836\n",
      "       exp_7 |  -.0780345\n",
      "     Widowed |  -.0344946\n",
      "    Divorced |   .0497084\n",
      "   Separated |  -.1500341\n",
      "Never_marr~d |  -.0387405\n",
      "     Midwest |  -.2070467\n",
      "       South |  -.1327093\n",
      "        West |  -.0727018\n",
      "       union |  -.0160921\n",
      "       _cons |   2.719902\n",
      "------------------------------------------------------------------------------\n"
     ]
    }
   ],
   "source": [
    "%stata lasso linear wage i.education $educ $exper $marriage $region union if (race==4 & female==1), folds(20) rseed(52) nolog\n",
    "%stata estimates store lasso\n",
    "%stata ereturn display"
   ]
  },
  {
   "cell_type": "code",
   "execution_count": 11,
   "metadata": {},
   "outputs": [],
   "source": [
    "%%stata -eret eret1\n",
    "estimates store lasso"
   ]
  },
  {
   "cell_type": "code",
   "execution_count": 12,
   "metadata": {},
   "outputs": [],
   "source": [
    "allvars_sel = eret1['e(allvars_sel)'].split()\n",
    "b = eret1['e(b)']\n",
    "\n",
    "allvars_sel.append('constant')\n",
    "\n",
    "if isinstance(b, np.ndarray):\n",
    "    b = b.tolist()\n",
    "if len(b) == 1 and isinstance(b[0], list):\n",
    "    b = b[0]"
   ]
  },
  {
   "cell_type": "code",
   "execution_count": 13,
   "metadata": {},
   "outputs": [
    {
     "data": {
      "text/html": [
       "<table border=\"1\" class=\"dataframe\">\n",
       "  <thead>\n",
       "    <tr style=\"text-align: right;\">\n",
       "      <th>Covariates</th>\n",
       "      <th>Penalized unstandardized coefficients</th>\n",
       "    </tr>\n",
       "  </thead>\n",
       "  <tbody>\n",
       "    <tr>\n",
       "      <td>0bn.education</td>\n",
       "      <td>-0.335624</td>\n",
       "    </tr>\n",
       "    <tr>\n",
       "      <td>4bn.education</td>\n",
       "      <td>-0.733184</td>\n",
       "    </tr>\n",
       "    <tr>\n",
       "      <td>6bn.education</td>\n",
       "      <td>-0.537403</td>\n",
       "    </tr>\n",
       "    <tr>\n",
       "      <td>8bn.education</td>\n",
       "      <td>-0.578549</td>\n",
       "    </tr>\n",
       "    <tr>\n",
       "      <td>9bn.education</td>\n",
       "      <td>-0.695621</td>\n",
       "    </tr>\n",
       "    <tr>\n",
       "      <td>10bn.education</td>\n",
       "      <td>-0.368171</td>\n",
       "    </tr>\n",
       "    <tr>\n",
       "      <td>11bn.education</td>\n",
       "      <td>-0.503734</td>\n",
       "    </tr>\n",
       "    <tr>\n",
       "      <td>16bn.education</td>\n",
       "      <td>0.324778</td>\n",
       "    </tr>\n",
       "    <tr>\n",
       "      <td>18bn.education</td>\n",
       "      <td>0.478766</td>\n",
       "    </tr>\n",
       "    <tr>\n",
       "      <td>20bn.education</td>\n",
       "      <td>0.707665</td>\n",
       "    </tr>\n",
       "    <tr>\n",
       "      <td>High_School_Graduate</td>\n",
       "      <td>-0.331632</td>\n",
       "    </tr>\n",
       "    <tr>\n",
       "      <td>College</td>\n",
       "      <td>-0.182653</td>\n",
       "    </tr>\n",
       "    <tr>\n",
       "      <td>exp_1</td>\n",
       "      <td>1.169834</td>\n",
       "    </tr>\n",
       "    <tr>\n",
       "      <td>exp_2</td>\n",
       "      <td>-1.434057</td>\n",
       "    </tr>\n",
       "    <tr>\n",
       "      <td>exp_4</td>\n",
       "      <td>0.541836</td>\n",
       "    </tr>\n",
       "    <tr>\n",
       "      <td>exp_7</td>\n",
       "      <td>-0.078034</td>\n",
       "    </tr>\n",
       "    <tr>\n",
       "      <td>Widowed</td>\n",
       "      <td>-0.034495</td>\n",
       "    </tr>\n",
       "    <tr>\n",
       "      <td>Divorced</td>\n",
       "      <td>0.049708</td>\n",
       "    </tr>\n",
       "    <tr>\n",
       "      <td>Separated</td>\n",
       "      <td>-0.150034</td>\n",
       "    </tr>\n",
       "    <tr>\n",
       "      <td>Never_married</td>\n",
       "      <td>-0.038740</td>\n",
       "    </tr>\n",
       "    <tr>\n",
       "      <td>Midwest</td>\n",
       "      <td>-0.207047</td>\n",
       "    </tr>\n",
       "    <tr>\n",
       "      <td>South</td>\n",
       "      <td>-0.132709</td>\n",
       "    </tr>\n",
       "    <tr>\n",
       "      <td>West</td>\n",
       "      <td>-0.072702</td>\n",
       "    </tr>\n",
       "    <tr>\n",
       "      <td>union</td>\n",
       "      <td>-0.016092</td>\n",
       "    </tr>\n",
       "    <tr>\n",
       "      <td>constant</td>\n",
       "      <td>2.719902</td>\n",
       "    </tr>\n",
       "  </tbody>\n",
       "</table>"
      ],
      "text/plain": [
       "<IPython.core.display.HTML object>"
      ]
     },
     "metadata": {},
     "output_type": "display_data"
    }
   ],
   "source": [
    "df = pd.DataFrame({'Covariates': allvars_sel, 'Penalized unstandardized coefficients': b})\n",
    "\n",
    "html = df.to_html(index=False)\n",
    "\n",
    "from IPython.display import display, HTML\n",
    "display(HTML(html))"
   ]
  },
  {
   "cell_type": "markdown",
   "metadata": {},
   "source": [
    "2. Repeat the above exercise using the subsample of Hispanic men $(n=4547)$. **Note**: You are welcome to use ```Stata``` default plugin value of the needed hyperparameter with a random seed set to 2024. [10 points]"
   ]
  },
  {
   "cell_type": "code",
   "execution_count": 14,
   "metadata": {},
   "outputs": [
    {
     "name": "stdout",
     "output_type": "stream",
     "text": [
      "note: convergence for the lasso penalty = 0.000027 not reached after 100000\n",
      "      iterations; solutions for larger penalty values returned.\n",
      "\n",
      "Lasso linear model                          No. of obs        =      4,547\n",
      "                                            No. of covariates =         30\n",
      "Selection: Cross-validation                 No. of CV folds   =         20\n",
      "\n",
      "--------------------------------------------------------------------------\n",
      "         |                                No. of      Out-of-      CV mean\n",
      "         |                               nonzero       sample   prediction\n",
      "      ID |     Description      lambda     coef.    R-squared        error\n",
      "---------+----------------------------------------------------------------\n",
      "       1 |    first lambda    .1429747         0      -0.0001       .43012\n",
      "      88 |   lambda before    .0000437        25       0.2783     .3103735\n",
      "    * 89 | selected lambda    .0000398        25       0.2784     .3103639\n",
      "      90 |    lambda after    .0000362        25\n",
      "      92 |     last lambda    .0000301        25\n",
      "--------------------------------------------------------------------------\n",
      "* lambda selected by cross-validation.\n",
      "------------------------------------------------------------------------------\n",
      "        wage | Coefficient\n",
      "-------------+----------------------------------------------------------------\n",
      "   education |\n",
      "          0  |  -.3820778\n",
      "          4  |  -.3583243\n",
      "          6  |  -.3561466\n",
      "          8  |  -.2280233\n",
      "          9  |  -.3096879\n",
      "         10  |  -.2248321\n",
      "         11  |  -.1470446\n",
      "         13  |     .21905\n",
      "         16  |   .5014557\n",
      "         18  |   .8038536\n",
      "         20  |   1.123479\n",
      "             |\n",
      "Associate_~e |    .330769\n",
      "       exp_1 |   2.142034\n",
      "       exp_2 |  -2.339226\n",
      "       exp_4 |   1.043203\n",
      "       exp_7 |  -.3278425\n",
      "       exp_9 |   .0713693\n",
      "     Widowed |   .0801069\n",
      "    Divorced |  -.0697407\n",
      "   Separated |  -.1376764\n",
      "Never_marr~d |  -.1551717\n",
      "     Midwest |  -.0586878\n",
      "       South |  -.1274787\n",
      "        West |   -.024568\n",
      "       union |   .3083893\n",
      "       _cons |   2.275874\n",
      "------------------------------------------------------------------------------\n"
     ]
    }
   ],
   "source": [
    "%stata lasso linear wage i.education $educ $exper $marriage $region union if (hisp==1 & female==0), folds(20) rseed(52) nolog\n",
    "%stata estimates store lasso\n",
    "%stata ereturn display"
   ]
  },
  {
   "cell_type": "code",
   "execution_count": 15,
   "metadata": {},
   "outputs": [],
   "source": [
    "%%stata -eret eret2\n",
    "estimates store lasso"
   ]
  },
  {
   "cell_type": "code",
   "execution_count": 16,
   "metadata": {},
   "outputs": [],
   "source": [
    "allvars_sel = eret2['e(allvars_sel)'].split()\n",
    "b = eret2['e(b)']\n",
    "\n",
    "allvars_sel.append('constant')\n",
    "\n",
    "if isinstance(b, np.ndarray):\n",
    "    b = b.tolist()\n",
    "if len(b) == 1 and isinstance(b[0], list):\n",
    "    b = b[0]"
   ]
  },
  {
   "cell_type": "code",
   "execution_count": 17,
   "metadata": {},
   "outputs": [
    {
     "data": {
      "text/html": [
       "<table border=\"1\" class=\"dataframe\">\n",
       "  <thead>\n",
       "    <tr style=\"text-align: right;\">\n",
       "      <th>Covariates</th>\n",
       "      <th>Penalized unstandardized coefficients</th>\n",
       "    </tr>\n",
       "  </thead>\n",
       "  <tbody>\n",
       "    <tr>\n",
       "      <td>0bn.education</td>\n",
       "      <td>-0.382078</td>\n",
       "    </tr>\n",
       "    <tr>\n",
       "      <td>4bn.education</td>\n",
       "      <td>-0.358324</td>\n",
       "    </tr>\n",
       "    <tr>\n",
       "      <td>6bn.education</td>\n",
       "      <td>-0.356147</td>\n",
       "    </tr>\n",
       "    <tr>\n",
       "      <td>8bn.education</td>\n",
       "      <td>-0.228023</td>\n",
       "    </tr>\n",
       "    <tr>\n",
       "      <td>9bn.education</td>\n",
       "      <td>-0.309688</td>\n",
       "    </tr>\n",
       "    <tr>\n",
       "      <td>10bn.education</td>\n",
       "      <td>-0.224832</td>\n",
       "    </tr>\n",
       "    <tr>\n",
       "      <td>11bn.education</td>\n",
       "      <td>-0.147045</td>\n",
       "    </tr>\n",
       "    <tr>\n",
       "      <td>13bn.education</td>\n",
       "      <td>0.219050</td>\n",
       "    </tr>\n",
       "    <tr>\n",
       "      <td>16bn.education</td>\n",
       "      <td>0.501456</td>\n",
       "    </tr>\n",
       "    <tr>\n",
       "      <td>18bn.education</td>\n",
       "      <td>0.803854</td>\n",
       "    </tr>\n",
       "    <tr>\n",
       "      <td>20bn.education</td>\n",
       "      <td>1.123479</td>\n",
       "    </tr>\n",
       "    <tr>\n",
       "      <td>Associate_degree</td>\n",
       "      <td>0.330769</td>\n",
       "    </tr>\n",
       "    <tr>\n",
       "      <td>exp_1</td>\n",
       "      <td>2.142034</td>\n",
       "    </tr>\n",
       "    <tr>\n",
       "      <td>exp_2</td>\n",
       "      <td>-2.339226</td>\n",
       "    </tr>\n",
       "    <tr>\n",
       "      <td>exp_4</td>\n",
       "      <td>1.043203</td>\n",
       "    </tr>\n",
       "    <tr>\n",
       "      <td>exp_7</td>\n",
       "      <td>-0.327843</td>\n",
       "    </tr>\n",
       "    <tr>\n",
       "      <td>exp_9</td>\n",
       "      <td>0.071369</td>\n",
       "    </tr>\n",
       "    <tr>\n",
       "      <td>Widowed</td>\n",
       "      <td>0.080107</td>\n",
       "    </tr>\n",
       "    <tr>\n",
       "      <td>Divorced</td>\n",
       "      <td>-0.069741</td>\n",
       "    </tr>\n",
       "    <tr>\n",
       "      <td>Separated</td>\n",
       "      <td>-0.137676</td>\n",
       "    </tr>\n",
       "    <tr>\n",
       "      <td>Never_married</td>\n",
       "      <td>-0.155172</td>\n",
       "    </tr>\n",
       "    <tr>\n",
       "      <td>Midwest</td>\n",
       "      <td>-0.058688</td>\n",
       "    </tr>\n",
       "    <tr>\n",
       "      <td>South</td>\n",
       "      <td>-0.127479</td>\n",
       "    </tr>\n",
       "    <tr>\n",
       "      <td>West</td>\n",
       "      <td>-0.024568</td>\n",
       "    </tr>\n",
       "    <tr>\n",
       "      <td>union</td>\n",
       "      <td>0.308389</td>\n",
       "    </tr>\n",
       "    <tr>\n",
       "      <td>constant</td>\n",
       "      <td>2.275874</td>\n",
       "    </tr>\n",
       "  </tbody>\n",
       "</table>"
      ],
      "text/plain": [
       "<IPython.core.display.HTML object>"
      ]
     },
     "metadata": {},
     "output_type": "display_data"
    }
   ],
   "source": [
    "df = pd.DataFrame({'Covariates': allvars_sel, 'Penalized unstandardized coefficients': b})\n",
    "\n",
    "html = df.to_html(index=False)\n",
    "\n",
    "from IPython.display import display, HTML\n",
    "display(HTML(html))"
   ]
  },
  {
   "attachments": {},
   "cell_type": "markdown",
   "metadata": {},
   "source": [
    "3. You will replicate and extend the work reported in the Chapter of Bruce Hansen's textbook relating to Card (1995). The data is from the author's website, and is posted as ```Card1995```. The model we focus on is labeled 2SLS(a) in Table 12.1 in Chapter 12, which uses _public_ and _private_ as instruments for _edu_. The variables you will need for this exercise include _lwage76_, _ed76_, _age76_, _smsa76r_, _reg76r_, _nearc2_, _nearc4_, _nearc4a_, _nearc4b_. See the description file for definitions.\n",
    "$$\n",
    "\\log (\\text { wage })=\\beta_0+\\beta_1 e d u+\\beta_2 \\exp +\\beta_3 \\exp ^2 / 100+\\beta_4 \\operatorname{south}+\\beta_5 \\text { Black }+e\n",
    "$$\n",
    "where _edu=education_ (Years), _exp=experience_ (Years), and _south_ and _Black_ are regional and racial dummy variables. The variables $\\exp =a g e-e d u-6$ and $\\exp ^2 / 100$ are not in the dataset, they need to be generated.\n",
    "\n",
    "(a) First, replicate the reduced form regression presented in the final column of Table 12.2 in Bruce Hansen's relevant Chapter, and the 2SLS regression described above (using _public_ and _private_ as instruments for _edu_) to verify that you have the same variable defintions. [3 point]"
   ]
  },
  {
   "cell_type": "code",
   "execution_count": 18,
   "metadata": {},
   "outputs": [],
   "source": [
    "from pystata import stata"
   ]
  },
  {
   "cell_type": "code",
   "execution_count": 19,
   "metadata": {},
   "outputs": [
    {
     "name": "stdout",
     "output_type": "stream",
     "text": [
      "\n"
     ]
    }
   ],
   "source": [
    "stata.run('''\n",
    "* Clear memory and load the data\n",
    "use ../Data/Card1995, clear\n",
    "''',quietly=True)"
   ]
  },
  {
   "cell_type": "code",
   "execution_count": 20,
   "metadata": {},
   "outputs": [
    {
     "name": "stdout",
     "output_type": "stream",
     "text": [
      "\n",
      ". set more off\n",
      "\n",
      ". gen exp = age76 - ed76 -6\n",
      "\n",
      ". gen exp2 = (exp^2)/100\n",
      "\n",
      ". * Dropping observations with missing wage\n",
      ". drop if lwage76==.\n",
      "(603 observations deleted)\n",
      "\n",
      ". \n"
     ]
    }
   ],
   "source": [
    "%%stata\n",
    "set more off\n",
    "gen exp = age76 - ed76 -6\n",
    "gen exp2 = (exp^2)/100\n",
    "* Dropping observations with missing wage\n",
    "drop if lwage76==."
   ]
  },
  {
   "cell_type": "code",
   "execution_count": 21,
   "metadata": {},
   "outputs": [
    {
     "name": "stdout",
     "output_type": "stream",
     "text": [
      "\n",
      ". \n",
      ". reg ed76 exp exp2 black reg76r smsa76r nearc4a nearc4b, r\n",
      "\n",
      "Linear regression                               Number of obs     =      3,010\n",
      "                                                F(7, 3002)        =     525.76\n",
      "                                                Prob > F          =     0.0000\n",
      "                                                R-squared         =     0.4762\n",
      "                                                Root MSE          =     1.9396\n",
      "\n",
      "------------------------------------------------------------------------------\n",
      "             |               Robust\n",
      "        ed76 | Coefficient  std. err.      t    P>|t|     [95% conf. interval]\n",
      "-------------+----------------------------------------------------------------\n",
      "         exp |  -.4132653   .0320273   -12.90   0.000    -.4760631   -.3504675\n",
      "        exp2 |   .0927963    .170775     0.54   0.587    -.2420515    .4276441\n",
      "       black |  -1.006308   .0879844   -11.44   0.000    -1.178824   -.8337924\n",
      "      reg76r |   -.267108   .0786652    -3.40   0.001    -.4213511   -.1128649\n",
      "     smsa76r |   .3997513   .0847533     4.72   0.000      .233571    .5659317\n",
      "     nearc4a |   .4303519   .0861674     4.99   0.000     .2613987    .5993051\n",
      "     nearc4b |   .1226301   .1013081     1.21   0.226    -.0760102    .3212704\n",
      "       _cons |   16.65729   .1467615   113.50   0.000     16.36953    16.94505\n",
      "------------------------------------------------------------------------------\n",
      "\n",
      ". estimates store Pub_priv\n",
      "\n",
      ". ivregress 2sls lwage76 exp exp2 black reg76r smsa76r (ed76=nearc4a nearc4b), \n",
      "> r\n",
      "\n",
      "Instrumental variables 2SLS regression            Number of obs   =      3,010\n",
      "                                                  Wald chi2(6)    =     717.93\n",
      "                                                  Prob > chi2     =     0.0000\n",
      "                                                  R-squared       =     0.1447\n",
      "                                                  Root MSE        =     .41037\n",
      "\n",
      "------------------------------------------------------------------------------\n",
      "             |               Robust\n",
      "     lwage76 | Coefficient  std. err.      z    P>|z|     [95% conf. interval]\n",
      "-------------+----------------------------------------------------------------\n",
      "        ed76 |   .1610916   .0404709     3.98   0.000     .0817702    .2404131\n",
      "         exp |   .1193108   .0181653     6.57   0.000     .0837075    .1549141\n",
      "        exp2 |  -.2305416   .0367518    -6.27   0.000    -.3025738   -.1585094\n",
      "       black |  -.1017274   .0439722    -2.31   0.021    -.1879113   -.0155435\n",
      "      reg76r |  -.0950355   .0217387    -4.37   0.000    -.1376427   -.0524283\n",
      "     smsa76r |   .1164481     .02627     4.43   0.000     .0649599    .1679363\n",
      "       _cons |   3.268014   .6821174     4.79   0.000     1.931088    4.604939\n",
      "------------------------------------------------------------------------------\n",
      "Instrumented: ed76\n",
      " Instruments: exp exp2 black reg76r smsa76r nearc4a nearc4b\n",
      "\n",
      ". \n"
     ]
    }
   ],
   "source": [
    "stata.run('''\n",
    "reg ed76 exp exp2 black reg76r smsa76r nearc4a nearc4b, r\n",
    "estimates store Pub_priv\n",
    "ivregress 2sls lwage76 exp exp2 black reg76r smsa76r (ed76=nearc4a nearc4b), r\n",
    "''')"
   ]
  },
  {
   "cell_type": "markdown",
   "metadata": {},
   "source": [
    "(b) Now try a different reduced form model. The variable _nearc2_ means \"grew up near a 2-year college\". See if adding it to the reduced form equation is useful. [5 points]"
   ]
  },
  {
   "cell_type": "code",
   "execution_count": 22,
   "metadata": {},
   "outputs": [
    {
     "name": "stdout",
     "output_type": "stream",
     "text": [
      "\n",
      ". \n",
      ". reg ed76 exp exp2 black reg76r smsa76r nearc4a nearc4b nearc2, robust\n",
      "\n",
      "Linear regression                               Number of obs     =      3,010\n",
      "                                                F(8, 3001)        =     460.20\n",
      "                                                Prob > F          =     0.0000\n",
      "                                                R-squared         =     0.4764\n",
      "                                                Root MSE          =     1.9396\n",
      "\n",
      "------------------------------------------------------------------------------\n",
      "             |               Robust\n",
      "        ed76 | Coefficient  std. err.      t    P>|t|     [95% conf. interval]\n",
      "-------------+----------------------------------------------------------------\n",
      "         exp |  -.4127948   .0320079   -12.90   0.000    -.4755545   -.3500351\n",
      "        exp2 |   .0894569    .170675     0.52   0.600     -.245195    .4241088\n",
      "       black |  -1.010604   .0879567   -11.49   0.000    -1.183065   -.8381425\n",
      "      reg76r |  -.2603337   .0789195    -3.30   0.001    -.4150755   -.1055919\n",
      "     smsa76r |   .3903953   .0855558     4.56   0.000     .2226415    .5581492\n",
      "     nearc4a |   .4216228   .0865068     4.87   0.000     .2520041    .5912415\n",
      "     nearc4b |   .1301173   .1017172     1.28   0.201    -.0693252    .3295598\n",
      "      nearc2 |    .067735   .0743663     0.91   0.362     -.078079     .213549\n",
      "       _cons |   16.63427   .1495686   111.22   0.000     16.34101    16.92754\n",
      "------------------------------------------------------------------------------\n",
      "\n",
      ". estimates store With_2yr_coll\n",
      "\n",
      ". \n"
     ]
    }
   ],
   "source": [
    "stata.run('''\n",
    "reg ed76 exp exp2 black reg76r smsa76r nearc4a nearc4b nearc2, robust\n",
    "estimates store With_2yr_coll\n",
    "''')"
   ]
  },
  {
   "cell_type": "markdown",
   "metadata": {},
   "source": [
    "(c) Now try more interactions in the reduced form. Create the interactions $nearc4a*age76$ and $nearc4a*age76^2 / 100$, and add them to the reduced form equation. Estimate this by least squares. Interpret the coefficients on the two new variables. [10 points]"
   ]
  },
  {
   "cell_type": "code",
   "execution_count": 23,
   "metadata": {},
   "outputs": [
    {
     "name": "stdout",
     "output_type": "stream",
     "text": [
      "\n",
      ". \n",
      ". gen int_1 = nearc4a*age76\n",
      "\n",
      ". gen int_2 = (nearc4a*age76^2)/100\n",
      "\n",
      ". \n"
     ]
    }
   ],
   "source": [
    "stata.run('''\n",
    "gen int_1 = nearc4a*age76\n",
    "gen int_2 = (nearc4a*age76^2)/100\n",
    "''')"
   ]
  },
  {
   "cell_type": "code",
   "execution_count": 24,
   "metadata": {},
   "outputs": [
    {
     "name": "stdout",
     "output_type": "stream",
     "text": [
      "\n",
      ". \n",
      ". reg ed76 exp exp2 black reg76r smsa76r nearc4a nearc4b int_1 int_2 , robust\n",
      "\n",
      "Linear regression                               Number of obs     =      3,010\n",
      "                                                F(9, 3000)        =     545.44\n",
      "                                                Prob > F          =     0.0000\n",
      "                                                R-squared         =     0.6505\n",
      "                                                Root MSE          =     1.5849\n",
      "\n",
      "------------------------------------------------------------------------------\n",
      "             |               Robust\n",
      "        ed76 | Coefficient  std. err.      t    P>|t|     [95% conf. interval]\n",
      "-------------+----------------------------------------------------------------\n",
      "         exp |  -.6717638    .031643   -21.23   0.000     -.733808   -.6097196\n",
      "        exp2 |   .5537512   .1688994     3.28   0.001     .2225808    .8849217\n",
      "       black |  -.6877297   .0751638    -9.15   0.000    -.8351076   -.5403519\n",
      "      reg76r |  -.2014957   .0673859    -2.99   0.003    -.3336229   -.0693685\n",
      "     smsa76r |    .265291   .0749935     3.54   0.000     .1182472    .4123349\n",
      "     nearc4a |  -28.92563    2.83009   -10.22   0.000    -34.47474   -23.37651\n",
      "     nearc4b |   .1363548   .1054294     1.29   0.196    -.0703665     .343076\n",
      "       int_1 |   1.483093   .2004729     7.40   0.000     1.090015    1.876171\n",
      "       int_2 |  -1.553656   .3510816    -4.43   0.000    -2.242041   -.8652711\n",
      "       _cons |   18.50425   .1444195   128.13   0.000     18.22108    18.78742\n",
      "------------------------------------------------------------------------------\n",
      "\n",
      ". estimates store With_int\n",
      "\n",
      ". \n"
     ]
    }
   ],
   "source": [
    "stata.run('''\n",
    "reg ed76 exp exp2 black reg76r smsa76r nearc4a nearc4b int_1 int_2 , robust\n",
    "estimates store With_int\n",
    "''')"
   ]
  },
  {
   "cell_type": "markdown",
   "metadata": {},
   "source": [
    "First, the constant of the first interaction is 1.48, which indicates that, when a person is close to a private college, the impact of the age in their education is greater. Perhaps it is because of the incentive to go to private college when a person grows up. Second, int_2 shows that this effect of living near to a private college with age may become weaker and even negative from an specific age. That means that the negative coefficient shows a cuadratic and concave behavior."
   ]
  },
  {
   "cell_type": "markdown",
   "metadata": {},
   "source": [
    "(d) Estimate the structural equation by 2SLS using the expanded instrument set {$nearc4a$, $nearc4b$, $nearc4a*age76$, $nearc4a*age76^2 / 100$}. What is the impact on the structural estimate of the return to schooling? [6 points]"
   ]
  },
  {
   "cell_type": "code",
   "execution_count": 25,
   "metadata": {},
   "outputs": [
    {
     "name": "stdout",
     "output_type": "stream",
     "text": [
      "\n",
      ". \n",
      ". ivregress 2sls lwage76 exp exp2 black reg76r smsa76r (ed76=nearc4a nearc4b in\n",
      "> t_1 int_2), r\n",
      "\n",
      "Instrumental variables 2SLS regression            Number of obs   =      3,010\n",
      "                                                  Wald chi2(6)    =    1018.86\n",
      "                                                  Prob > chi2     =     0.0000\n",
      "                                                  R-squared       =     0.2891\n",
      "                                                  Root MSE        =     .37412\n",
      "\n",
      "------------------------------------------------------------------------------\n",
      "             |               Robust\n",
      "     lwage76 | Coefficient  std. err.      z    P>|z|     [95% conf. interval]\n",
      "-------------+----------------------------------------------------------------\n",
      "        ed76 |   .0825386   .0062178    13.27   0.000      .070352    .0947252\n",
      "         exp |    .087094   .0070498    12.35   0.000     .0732766    .1009115\n",
      "        exp2 |  -.2247205   .0319734    -7.03   0.000    -.2873872   -.1620538\n",
      "       black |  -.1810215   .0180273   -10.04   0.000    -.2163544   -.1456887\n",
      "      reg76r |  -.1219401   .0154109    -7.91   0.000     -.152145   -.0917352\n",
      "     smsa76r |   .1570178   .0152781    10.28   0.000     .1270732    .1869623\n",
      "       _cons |   4.590107   .1106351    41.49   0.000     4.373266    4.806948\n",
      "------------------------------------------------------------------------------\n",
      "Instrumented: ed76\n",
      " Instruments: exp exp2 black reg76r smsa76r nearc4a nearc4b int_1 int_2\n",
      "\n",
      ". estimates store With_2sls\n",
      "\n",
      ". \n"
     ]
    }
   ],
   "source": [
    "stata.run('''\n",
    "ivregress 2sls lwage76 exp exp2 black reg76r smsa76r (ed76=nearc4a nearc4b int_1 int_2), r\n",
    "estimates store With_2sls\n",
    "''')"
   ]
  },
  {
   "cell_type": "markdown",
   "metadata": {},
   "source": [
    "Each year of education increases in 8.25% the wages."
   ]
  },
  {
   "cell_type": "markdown",
   "metadata": {},
   "source": [
    "4. Take the ```cpsmar09``` dataset and the subsample of white male Hispanics. Estimate the regression\n",
    "\n",
    "$$\n",
    "\\widehat{\\log (\\text { wage })}=\\beta_1 \\text { education }+\\beta_2 \\text { experience }+\\beta_3 \\text { experience }^2 / 100+\\beta_4 \\text {. }\n",
    "$$\n",
    "\n",
    "(a) Report the coefficient estimates and robust standard errors. [8 points]"
   ]
  },
  {
   "cell_type": "code",
   "execution_count": 26,
   "metadata": {
    "scrolled": true
   },
   "outputs": [
    {
     "data": {
      "text/html": [
       "<div>\n",
       "<style scoped>\n",
       "    .dataframe tbody tr th:only-of-type {\n",
       "        vertical-align: middle;\n",
       "    }\n",
       "\n",
       "    .dataframe tbody tr th {\n",
       "        vertical-align: top;\n",
       "    }\n",
       "\n",
       "    .dataframe thead th {\n",
       "        text-align: right;\n",
       "    }\n",
       "</style>\n",
       "<table border=\"1\" class=\"dataframe\">\n",
       "  <thead>\n",
       "    <tr style=\"text-align: right;\">\n",
       "      <th></th>\n",
       "      <th>age</th>\n",
       "      <th>female</th>\n",
       "      <th>hisp</th>\n",
       "      <th>education</th>\n",
       "      <th>earnings</th>\n",
       "      <th>hours</th>\n",
       "      <th>week</th>\n",
       "      <th>union</th>\n",
       "      <th>uncov</th>\n",
       "      <th>region</th>\n",
       "      <th>race</th>\n",
       "      <th>marital</th>\n",
       "    </tr>\n",
       "  </thead>\n",
       "  <tbody>\n",
       "    <tr>\n",
       "      <th>0</th>\n",
       "      <td>52.0</td>\n",
       "      <td>0.0</td>\n",
       "      <td>0.0</td>\n",
       "      <td>12.0</td>\n",
       "      <td>146000.0</td>\n",
       "      <td>45.0</td>\n",
       "      <td>52.0</td>\n",
       "      <td>0.0</td>\n",
       "      <td>0.0</td>\n",
       "      <td>1.0</td>\n",
       "      <td>1.0</td>\n",
       "      <td>1.0</td>\n",
       "    </tr>\n",
       "    <tr>\n",
       "      <th>1</th>\n",
       "      <td>38.0</td>\n",
       "      <td>0.0</td>\n",
       "      <td>0.0</td>\n",
       "      <td>18.0</td>\n",
       "      <td>50000.0</td>\n",
       "      <td>45.0</td>\n",
       "      <td>52.0</td>\n",
       "      <td>0.0</td>\n",
       "      <td>0.0</td>\n",
       "      <td>1.0</td>\n",
       "      <td>1.0</td>\n",
       "      <td>1.0</td>\n",
       "    </tr>\n",
       "    <tr>\n",
       "      <th>2</th>\n",
       "      <td>38.0</td>\n",
       "      <td>0.0</td>\n",
       "      <td>0.0</td>\n",
       "      <td>14.0</td>\n",
       "      <td>32000.0</td>\n",
       "      <td>40.0</td>\n",
       "      <td>51.0</td>\n",
       "      <td>0.0</td>\n",
       "      <td>0.0</td>\n",
       "      <td>1.0</td>\n",
       "      <td>1.0</td>\n",
       "      <td>1.0</td>\n",
       "    </tr>\n",
       "    <tr>\n",
       "      <th>3</th>\n",
       "      <td>41.0</td>\n",
       "      <td>1.0</td>\n",
       "      <td>0.0</td>\n",
       "      <td>13.0</td>\n",
       "      <td>47000.0</td>\n",
       "      <td>40.0</td>\n",
       "      <td>52.0</td>\n",
       "      <td>0.0</td>\n",
       "      <td>0.0</td>\n",
       "      <td>1.0</td>\n",
       "      <td>1.0</td>\n",
       "      <td>1.0</td>\n",
       "    </tr>\n",
       "    <tr>\n",
       "      <th>4</th>\n",
       "      <td>42.0</td>\n",
       "      <td>0.0</td>\n",
       "      <td>0.0</td>\n",
       "      <td>13.0</td>\n",
       "      <td>161525.0</td>\n",
       "      <td>50.0</td>\n",
       "      <td>52.0</td>\n",
       "      <td>1.0</td>\n",
       "      <td>0.0</td>\n",
       "      <td>1.0</td>\n",
       "      <td>1.0</td>\n",
       "      <td>1.0</td>\n",
       "    </tr>\n",
       "  </tbody>\n",
       "</table>\n",
       "</div>"
      ],
      "text/plain": [
       "    age  female  hisp  education  earnings  hours  week  union  uncov  region  \\\n",
       "0  52.0     0.0   0.0       12.0  146000.0   45.0  52.0    0.0    0.0     1.0   \n",
       "1  38.0     0.0   0.0       18.0   50000.0   45.0  52.0    0.0    0.0     1.0   \n",
       "2  38.0     0.0   0.0       14.0   32000.0   40.0  51.0    0.0    0.0     1.0   \n",
       "3  41.0     1.0   0.0       13.0   47000.0   40.0  52.0    0.0    0.0     1.0   \n",
       "4  42.0     0.0   0.0       13.0  161525.0   50.0  52.0    1.0    0.0     1.0   \n",
       "\n",
       "   race  marital  \n",
       "0   1.0      1.0  \n",
       "1   1.0      1.0  \n",
       "2   1.0      1.0  \n",
       "3   1.0      1.0  \n",
       "4   1.0      1.0  "
      ]
     },
     "execution_count": 26,
     "metadata": {},
     "output_type": "execute_result"
    }
   ],
   "source": [
    "import pandas as pd\n",
    "import numpy as np\n",
    "cps09mr = pd.read_stata('../Data/cps09mar.dta')\n",
    "cps09mr.head()"
   ]
  },
  {
   "cell_type": "code",
   "execution_count": 27,
   "metadata": {},
   "outputs": [],
   "source": [
    "cps09mr['wage'] = np.log(cps09mr.earnings/(cps09mr.hours*cps09mr.week))\n",
    "cps09mr['experience'] = cps09mr.age - cps09mr.education - 6\n",
    "cps09mr['exp2'] = (cps09mr.experience**2)/100\n",
    "cps09mr['mbnt'] = np.logical_and(np.logical_and(cps09mr.hisp==1, cps09mr.race==1), cps09mr.female!=1)"
   ]
  },
  {
   "cell_type": "code",
   "execution_count": 28,
   "metadata": {},
   "outputs": [
    {
     "data": {
      "text/html": [
       "<div>\n",
       "<style scoped>\n",
       "    .dataframe tbody tr th:only-of-type {\n",
       "        vertical-align: middle;\n",
       "    }\n",
       "\n",
       "    .dataframe tbody tr th {\n",
       "        vertical-align: top;\n",
       "    }\n",
       "\n",
       "    .dataframe thead th {\n",
       "        text-align: right;\n",
       "    }\n",
       "</style>\n",
       "<table border=\"1\" class=\"dataframe\">\n",
       "  <thead>\n",
       "    <tr style=\"text-align: right;\">\n",
       "      <th></th>\n",
       "      <th>age</th>\n",
       "      <th>female</th>\n",
       "      <th>hisp</th>\n",
       "      <th>education</th>\n",
       "      <th>earnings</th>\n",
       "      <th>hours</th>\n",
       "      <th>week</th>\n",
       "      <th>union</th>\n",
       "      <th>uncov</th>\n",
       "      <th>region</th>\n",
       "      <th>race</th>\n",
       "      <th>marital</th>\n",
       "      <th>wage</th>\n",
       "      <th>experience</th>\n",
       "      <th>exp2</th>\n",
       "      <th>mbnt</th>\n",
       "    </tr>\n",
       "  </thead>\n",
       "  <tbody>\n",
       "    <tr>\n",
       "      <th>0</th>\n",
       "      <td>52.0</td>\n",
       "      <td>0.0</td>\n",
       "      <td>0.0</td>\n",
       "      <td>12.0</td>\n",
       "      <td>146000.0</td>\n",
       "      <td>45.0</td>\n",
       "      <td>52.0</td>\n",
       "      <td>0.0</td>\n",
       "      <td>0.0</td>\n",
       "      <td>1.0</td>\n",
       "      <td>1.0</td>\n",
       "      <td>1.0</td>\n",
       "      <td>4.133456</td>\n",
       "      <td>34.0</td>\n",
       "      <td>11.56</td>\n",
       "      <td>False</td>\n",
       "    </tr>\n",
       "    <tr>\n",
       "      <th>1</th>\n",
       "      <td>38.0</td>\n",
       "      <td>0.0</td>\n",
       "      <td>0.0</td>\n",
       "      <td>18.0</td>\n",
       "      <td>50000.0</td>\n",
       "      <td>45.0</td>\n",
       "      <td>52.0</td>\n",
       "      <td>0.0</td>\n",
       "      <td>0.0</td>\n",
       "      <td>1.0</td>\n",
       "      <td>1.0</td>\n",
       "      <td>1.0</td>\n",
       "      <td>3.061872</td>\n",
       "      <td>14.0</td>\n",
       "      <td>1.96</td>\n",
       "      <td>False</td>\n",
       "    </tr>\n",
       "    <tr>\n",
       "      <th>2</th>\n",
       "      <td>38.0</td>\n",
       "      <td>0.0</td>\n",
       "      <td>0.0</td>\n",
       "      <td>14.0</td>\n",
       "      <td>32000.0</td>\n",
       "      <td>40.0</td>\n",
       "      <td>51.0</td>\n",
       "      <td>0.0</td>\n",
       "      <td>0.0</td>\n",
       "      <td>1.0</td>\n",
       "      <td>1.0</td>\n",
       "      <td>1.0</td>\n",
       "      <td>2.752786</td>\n",
       "      <td>18.0</td>\n",
       "      <td>3.24</td>\n",
       "      <td>False</td>\n",
       "    </tr>\n",
       "    <tr>\n",
       "      <th>3</th>\n",
       "      <td>41.0</td>\n",
       "      <td>1.0</td>\n",
       "      <td>0.0</td>\n",
       "      <td>13.0</td>\n",
       "      <td>47000.0</td>\n",
       "      <td>40.0</td>\n",
       "      <td>52.0</td>\n",
       "      <td>0.0</td>\n",
       "      <td>0.0</td>\n",
       "      <td>1.0</td>\n",
       "      <td>1.0</td>\n",
       "      <td>1.0</td>\n",
       "      <td>3.117780</td>\n",
       "      <td>22.0</td>\n",
       "      <td>4.84</td>\n",
       "      <td>False</td>\n",
       "    </tr>\n",
       "    <tr>\n",
       "      <th>4</th>\n",
       "      <td>42.0</td>\n",
       "      <td>0.0</td>\n",
       "      <td>0.0</td>\n",
       "      <td>13.0</td>\n",
       "      <td>161525.0</td>\n",
       "      <td>50.0</td>\n",
       "      <td>52.0</td>\n",
       "      <td>1.0</td>\n",
       "      <td>0.0</td>\n",
       "      <td>1.0</td>\n",
       "      <td>1.0</td>\n",
       "      <td>1.0</td>\n",
       "      <td>4.129148</td>\n",
       "      <td>23.0</td>\n",
       "      <td>5.29</td>\n",
       "      <td>False</td>\n",
       "    </tr>\n",
       "  </tbody>\n",
       "</table>\n",
       "</div>"
      ],
      "text/plain": [
       "    age  female  hisp  education  earnings  hours  week  union  uncov  region  \\\n",
       "0  52.0     0.0   0.0       12.0  146000.0   45.0  52.0    0.0    0.0     1.0   \n",
       "1  38.0     0.0   0.0       18.0   50000.0   45.0  52.0    0.0    0.0     1.0   \n",
       "2  38.0     0.0   0.0       14.0   32000.0   40.0  51.0    0.0    0.0     1.0   \n",
       "3  41.0     1.0   0.0       13.0   47000.0   40.0  52.0    0.0    0.0     1.0   \n",
       "4  42.0     0.0   0.0       13.0  161525.0   50.0  52.0    1.0    0.0     1.0   \n",
       "\n",
       "   race  marital      wage  experience   exp2   mbnt  \n",
       "0   1.0      1.0  4.133456        34.0  11.56  False  \n",
       "1   1.0      1.0  3.061872        14.0   1.96  False  \n",
       "2   1.0      1.0  2.752786        18.0   3.24  False  \n",
       "3   1.0      1.0  3.117780        22.0   4.84  False  \n",
       "4   1.0      1.0  4.129148        23.0   5.29  False  "
      ]
     },
     "execution_count": 28,
     "metadata": {},
     "output_type": "execute_result"
    }
   ],
   "source": [
    "cps09mr.head()  #-->para ver que se han añadido correctamente las nuevas variables a la data"
   ]
  },
  {
   "cell_type": "code",
   "execution_count": 29,
   "metadata": {},
   "outputs": [
    {
     "name": "stdout",
     "output_type": "stream",
     "text": [
      "\n",
      ". regress wage education experience exp2 if mbnt==1\n",
      "\n",
      "      Source |       SS           df       MS      Number of obs   =     4,230\n",
      "-------------+----------------------------------   F(3, 4226)      =    428.77\n",
      "       Model |  423.653968         3  141.217989   Prob > F        =    0.0000\n",
      "    Residual |  1391.87252     4,226  .329359328   R-squared       =    0.2334\n",
      "-------------+----------------------------------   Adj R-squared   =    0.2328\n",
      "       Total |  1815.52649     4,229   .42930397   Root MSE        =     .5739\n",
      "\n",
      "------------------------------------------------------------------------------\n",
      "        wage | Coefficient  Std. err.      t    P>|t|     [95% conf. interval]\n",
      "-------------+----------------------------------------------------------------\n",
      "   education |    .090449   .0027367    33.05   0.000     .0850837    .0958143\n",
      "  experience |   .0353797   .0025122    14.08   0.000     .0304544     .040305\n",
      "        exp2 |  -.0465059   .0050271    -9.25   0.000    -.0563617   -.0366501\n",
      "       _cons |   1.185209   .0447451    26.49   0.000     1.097486    1.272933\n",
      "------------------------------------------------------------------------------\n",
      "\n",
      ". hettest\n",
      "\n",
      "Breusch–Pagan/Cook–Weisberg test for heteroskedasticity \n",
      "Assumption: Normal error terms\n",
      "Variable: Fitted values of wage\n",
      "\n",
      "H0: Constant variance\n",
      "\n",
      "    chi2(1) =  50.17\n",
      "Prob > chi2 = 0.0000\n",
      "\n",
      ". \n"
     ]
    }
   ],
   "source": [
    "%%stata -d cps09mr -force\n",
    "regress wage education experience exp2 if mbnt==1\n",
    "hettest"
   ]
  },
  {
   "cell_type": "code",
   "execution_count": 30,
   "metadata": {},
   "outputs": [
    {
     "name": "stdout",
     "output_type": "stream",
     "text": [
      "\n",
      "Linear regression                               Number of obs     =      4,230\n",
      "                                                F(3, 4226)        =     372.39\n",
      "                                                Prob > F          =     0.0000\n",
      "                                                R-squared         =     0.2334\n",
      "                                                Root MSE          =      .5739\n",
      "\n",
      "------------------------------------------------------------------------------\n",
      "             |               Robust\n",
      "        wage | Coefficient  std. err.      t    P>|t|     [95% conf. interval]\n",
      "-------------+----------------------------------------------------------------\n",
      "   education |    .090449   .0029165    31.01   0.000     .0847312    .0961667\n",
      "  experience |   .0353797   .0025854    13.68   0.000     .0303109    .0404484\n",
      "        exp2 |  -.0465059   .0053069    -8.76   0.000    -.0569103   -.0361016\n",
      "       _cons |   1.185209   .0461003    25.71   0.000     1.094829     1.27559\n",
      "------------------------------------------------------------------------------\n"
     ]
    }
   ],
   "source": [
    "%%stata -d cps09mr -force\n",
    "regress wage education experience exp2 if mbnt==1, vce(robust)"
   ]
  },
  {
   "cell_type": "code",
   "execution_count": 31,
   "metadata": {},
   "outputs": [
    {
     "name": "stdout",
     "output_type": "stream",
     "text": [
      "\n",
      "e(b)[1,4]\n",
      "     education  experience        exp2       _cons\n",
      "y1   .09044896   .03537968  -.04650594   1.1852095\n"
     ]
    }
   ],
   "source": [
    "%stata matrix list e(b)"
   ]
  },
  {
   "cell_type": "code",
   "execution_count": 32,
   "metadata": {},
   "outputs": [
    {
     "name": "stdout",
     "output_type": "stream",
     "text": [
      "\n",
      "symmetric e(V)[4,4]\n",
      "             education  experience        exp2       _cons\n",
      " education   8.506e-06\n",
      "experience   5.843e-07   6.684e-06\n",
      "      exp2   2.997e-07  -.00001309   .00002816\n",
      "     _cons  -.00010973  -.00006909   .00010557   .00212523\n"
     ]
    }
   ],
   "source": [
    "%stata matrix list e(V)"
   ]
  },
  {
   "cell_type": "markdown",
   "metadata": {},
   "source": [
    "\n",
    "(b) Let $\\theta$ be the ratio of the return to one year of education to the return to one year of experience for experience $=10$. Write $\\theta$ as a function of the regression coefficients and variables. Compute $\\hat{\\theta}$ from the estimated model. [8 points]"
   ]
  },
  {
   "cell_type": "markdown",
   "metadata": {},
   "source": [
    "### b) Write and compute $\\theta$\n",
    "donde:\n",
    "$$\n",
    "\\theta_1 = 100*\\left. \\frac{\\partial \\text{wage}}{\\partial \\text{experience}} \\right|_{\\text{experience=10}}\n",
    "\\theta_2 = 00*\\left. \\frac{\\partial \\text{wage}}{\\partial \\text{education}} \\right|_{\\text{experience=10}}\n",
    "\\theta_3 = \\theta_1 / \\theta_2\n",
    "$$\n",
    "\n",
    "Al derivar la variable dependiente log(wage) con respecto a las variables education y experience, obtenemos los coeficientes de la regresión:\n",
    "\n",
    "$\\theta_1 = 100*\\beta_1$\n",
    "\n",
    "$\\theta_2 = 100*\\beta_2+20*\\beta_3$\n",
    "\n",
    "$\\theta_3 = \\frac{100*\\beta_1}{100*\\beta_2+20*\\beta_3}$"
   ]
  },
  {
   "cell_type": "code",
   "execution_count": 33,
   "metadata": {},
   "outputs": [
    {
     "name": "stdout",
     "output_type": "stream",
     "text": [
      "\n",
      "Linear regression                               Number of obs     =      4,230\n",
      "                                                F(3, 4226)        =     372.39\n",
      "                                                Prob > F          =     0.0000\n",
      "                                                R-squared         =     0.2334\n",
      "                                                Root MSE          =      .5739\n",
      "\n",
      "------------------------------------------------------------------------------\n",
      "             |               Robust\n",
      "        wage | Coefficient  std. err.      t    P>|t|     [95% conf. interval]\n",
      "-------------+----------------------------------------------------------------\n",
      "   education |    .090449   .0029165    31.01   0.000     .0847312    .0961667\n",
      "  experience |   .0353797   .0025854    13.68   0.000     .0303109    .0404484\n",
      "        exp2 |  -.0465059   .0053069    -8.76   0.000    -.0569103   -.0361016\n",
      "       _cons |   1.185209   .0461003    25.71   0.000     1.094829     1.27559\n",
      "------------------------------------------------------------------------------\n"
     ]
    }
   ],
   "source": [
    "%%stata -d cps09mr -force -eret dt\n",
    "regress wage education experience exp2 if mbnt==1, vce(robust)"
   ]
  },
  {
   "cell_type": "code",
   "execution_count": 34,
   "metadata": {},
   "outputs": [
    {
     "name": "stdout",
     "output_type": "stream",
     "text": [
      "\n",
      "Average marginal effects                                 Number of obs = 4,230\n",
      "Model VCE: Robust\n",
      "\n",
      "Expression: Linear prediction, predict()\n",
      "dy/dx wrt:  experience exp2\n",
      "At: experience = 10\n",
      "\n",
      "------------------------------------------------------------------------------\n",
      "             |            Delta-method\n",
      "             |      dy/dx   std. err.      t    P>|t|     [95% conf. interval]\n",
      "-------------+----------------------------------------------------------------\n",
      "  experience |   .0353797   .0025854    13.68   0.000     .0303109    .0404484\n",
      "        exp2 |  -.0465059   .0053069    -8.76   0.000    -.0569103   -.0361016\n",
      "------------------------------------------------------------------------------\n"
     ]
    }
   ],
   "source": [
    "%%stata \n",
    "margins, dydx(experience exp2) at(experience=10)"
   ]
  },
  {
   "cell_type": "code",
   "execution_count": 35,
   "metadata": {},
   "outputs": [],
   "source": [
    "## Coeficientes de beta\n",
    "education = dt ['e(b)'][0][0]\n",
    "experience = dt ['e(b)'][0][1]\n",
    "experience2 = dt  ['e(b)'][0][2]\n",
    "\n",
    "\n",
    "## Funciones de theta_hat = (educ_return, exp_return, theta_3)\n",
    "educ_return= education*100  \n",
    "exp_return= experience*100 +20*experience2\n",
    "theta_3 =  np.divide(educ_return,exp_return)"
   ]
  },
  {
   "cell_type": "code",
   "execution_count": 36,
   "metadata": {},
   "outputs": [
    {
     "name": "stdout",
     "output_type": "stream",
     "text": [
      "Componentes de teta 9.044895950734839 2.607849257242599 3.4683354206977555\n"
     ]
    }
   ],
   "source": [
    "print( \"Componentes de teta\",\n",
    "       str(educ_return)     ,\n",
    "       str(exp_return)      ,\n",
    "       str(theta_3)         )"
   ]
  },
  {
   "cell_type": "markdown",
   "metadata": {},
   "source": [
    "(c) Compute $s(\\widehat{\\theta})$ from the estimated model. [30 points]"
   ]
  },
  {
   "cell_type": "markdown",
   "metadata": {},
   "source": [
    "$\\hat{\\theta} = \\texttt{r}\\texttt{(}\\hat{\\beta}\\texttt{)}$ \n",
    "\n",
    "Para hallar el error estándar asintótico de $\\hat{\\theta}$\n",
    "\n",
    "$\\texttt{s(}\\hat{\\theta}\\texttt{)}$ = $\\sqrt{\\widehat{\\text{R'}}\\widehat{\\text{V}}_\\hat{\\beta}\\widehat{\\text{R}}}$\n",
    "\n",
    "donde:\n",
    "\n",
    "$ \\widehat{\\text{R}} = \\frac{\\partial \\text{r(}\\hat{\\beta}\\text{)'}}{\\partial \\beta}$\n",
    "\n",
    "$ \\widehat{\\text{V}}_\\hat{\\beta} $ es la matriz de varianza y covarianza estimada de $ \\hat{\\beta} $"
   ]
  },
  {
   "cell_type": "markdown",
   "metadata": {},
   "source": [
    "donde:\n",
    "$$\n",
    "\\begin{aligned}\n",
    "R=\\left(\\begin{array}{ccc}100 & 0 & \\frac{100}{100 \\beta_2 + 20 \\beta_3} \\\\ 0 & 100 & \\frac{-25 \\beta_1}{\\left(5 \\beta_2+\\beta_3\\right)^2} \\\\ 0 & 20 & \\frac{-5 \\beta_1}{\\left(\\beta_3+5 \\beta_2\\right)^2}\\end{array}\\right) = \\left(\\begin{array}{ccc} R_1 & R_2 & R_3\\end{array}\\right)\n",
    "\\end{aligned} \n",
    "    $$"
   ]
  },
  {
   "cell_type": "markdown",
   "metadata": {},
   "source": [
    "We assume heteroskedasticity, based on Breusch Pragan"
   ]
  },
  {
   "cell_type": "code",
   "execution_count": 37,
   "metadata": {},
   "outputs": [
    {
     "name": "stdout",
     "output_type": "stream",
     "text": [
      "[[ 8.50570164e-06  5.84306166e-07  2.99667759e-07 -1.09728558e-04]\n",
      " [ 5.84306166e-07  6.68430877e-06 -1.30931653e-05 -6.90879944e-05]\n",
      " [ 2.99667759e-07 -1.30931653e-05  2.81633812e-05  1.05566736e-04]\n",
      " [-1.09728558e-04 -6.90879944e-05  1.05566736e-04  2.12523381e-03]]\n"
     ]
    }
   ],
   "source": [
    "V = dt['e(V)']\n",
    "print(V)"
   ]
  },
  {
   "cell_type": "code",
   "execution_count": 38,
   "metadata": {},
   "outputs": [],
   "source": [
    "R_transpuesta = np.array([ [100, 0, 0, 0], [0, 100, 20, 0], \n",
    "                          [100/(100*experience+20*experience2), -25*education/(5*experience+experience2)**2, \n",
    "                           -5*education/(experience2+5*experience)**2, 0]])\n",
    "R = R_transpuesta.T"
   ]
  },
  {
   "cell_type": "code",
   "execution_count": 39,
   "metadata": {},
   "outputs": [
    {
     "name": "stdout",
     "output_type": "stream",
     "text": [
      "R = \n",
      " [[ 100.            0.           38.34577467]\n",
      " [   0.          100.         -132.99600853]\n",
      " [   0.           20.          -26.59920171]\n",
      " [   0.            0.            0.        ]]\n"
     ]
    }
   ],
   "source": [
    "print('R','=',\"\\n\",R_transpuesta.T)"
   ]
  },
  {
   "cell_type": "code",
   "execution_count": 40,
   "metadata": {},
   "outputs": [
    {
     "name": "stdout",
     "output_type": "stream",
     "text": [
      "R transpuesta = \n",
      " [[ 100.            0.           38.34577467]\n",
      " [   0.          100.         -132.99600853]\n",
      " [   0.           20.          -26.59920171]\n",
      " [   0.            0.            0.        ]]\n"
     ]
    }
   ],
   "source": [
    "print('R transpuesta','=',\"\\n\", R)"
   ]
  },
  {
   "cell_type": "code",
   "execution_count": 41,
   "metadata": {},
   "outputs": [
    {
     "data": {
      "text/html": [
       "<div>\n",
       "<style scoped>\n",
       "    .dataframe tbody tr th:only-of-type {\n",
       "        vertical-align: middle;\n",
       "    }\n",
       "\n",
       "    .dataframe tbody tr th {\n",
       "        vertical-align: top;\n",
       "    }\n",
       "\n",
       "    .dataframe thead th {\n",
       "        text-align: right;\n",
       "    }\n",
       "</style>\n",
       "<table border=\"1\" class=\"dataframe\">\n",
       "  <thead>\n",
       "    <tr style=\"text-align: right;\">\n",
       "      <th></th>\n",
       "      <th>s(theta_hat)**2</th>\n",
       "    </tr>\n",
       "  </thead>\n",
       "  <tbody>\n",
       "    <tr>\n",
       "      <th>s2_return_educ</th>\n",
       "      <td>0.085057</td>\n",
       "    </tr>\n",
       "    <tr>\n",
       "      <th>s2_return_exp</th>\n",
       "      <td>0.025736</td>\n",
       "    </tr>\n",
       "    <tr>\n",
       "      <th>s2_theta3</th>\n",
       "      <td>0.051457</td>\n",
       "    </tr>\n",
       "  </tbody>\n",
       "</table>\n",
       "</div>"
      ],
      "text/plain": [
       "                s(theta_hat)**2\n",
       "s2_return_educ         0.085057\n",
       "s2_return_exp          0.025736\n",
       "s2_theta3              0.051457"
      ]
     },
     "execution_count": 41,
     "metadata": {},
     "output_type": "execute_result"
    }
   ],
   "source": [
    "s_t = pd.DataFrame(np.diag(R.T @ V @ R ), index=[ \"s2_return_educ\", \"s2_return_exp\", \"s2_theta3\"], columns=[\"s(theta_hat)**2\"])\n",
    "s_t"
   ]
  },
  {
   "cell_type": "code",
   "execution_count": 42,
   "metadata": {},
   "outputs": [
    {
     "data": {
      "text/html": [
       "<div>\n",
       "<style scoped>\n",
       "    .dataframe tbody tr th:only-of-type {\n",
       "        vertical-align: middle;\n",
       "    }\n",
       "\n",
       "    .dataframe tbody tr th {\n",
       "        vertical-align: top;\n",
       "    }\n",
       "\n",
       "    .dataframe thead th {\n",
       "        text-align: right;\n",
       "    }\n",
       "</style>\n",
       "<table border=\"1\" class=\"dataframe\">\n",
       "  <thead>\n",
       "    <tr style=\"text-align: right;\">\n",
       "      <th></th>\n",
       "      <th>s(theta_hat)</th>\n",
       "    </tr>\n",
       "  </thead>\n",
       "  <tbody>\n",
       "    <tr>\n",
       "      <th>s_return_educ</th>\n",
       "      <td>0.291645</td>\n",
       "    </tr>\n",
       "    <tr>\n",
       "      <th>s_return_exp</th>\n",
       "      <td>0.160424</td>\n",
       "    </tr>\n",
       "    <tr>\n",
       "      <th>s_theta3</th>\n",
       "      <td>0.226841</td>\n",
       "    </tr>\n",
       "  </tbody>\n",
       "</table>\n",
       "</div>"
      ],
      "text/plain": [
       "               s(theta_hat)\n",
       "s_return_educ      0.291645\n",
       "s_return_exp       0.160424\n",
       "s_theta3           0.226841"
      ]
     },
     "execution_count": 42,
     "metadata": {},
     "output_type": "execute_result"
    }
   ],
   "source": [
    "# Para hallar el error estandar asintótico\n",
    "ase_t = pd.DataFrame(np.sqrt(np.diag(R.T @ V @ R)), index=[ \"s_return_educ\", \"s_return_exp\", \"s_theta3\"], columns=[\"s(theta_hat)\"])\n",
    "ase_t"
   ]
  }
 ],
 "metadata": {
  "kernelspec": {
   "display_name": "Python 3 (ipykernel)",
   "language": "python",
   "name": "python3"
  },
  "language_info": {
   "codemirror_mode": {
    "name": "ipython",
    "version": 3
   },
   "file_extension": ".py",
   "mimetype": "text/x-python",
   "name": "python",
   "nbconvert_exporter": "python",
   "pygments_lexer": "ipython3",
   "version": "3.11.0"
  }
 },
 "nbformat": 4,
 "nbformat_minor": 4
}
