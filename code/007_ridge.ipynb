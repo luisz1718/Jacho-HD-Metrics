{
 "cells": [
  {
   "cell_type": "code",
   "execution_count": 1,
   "id": "a1b938f9-22f8-4bea-9ad9-3f5cb552eff3",
   "metadata": {},
   "outputs": [],
   "source": [
    "%%capture\n",
    "import stata_setup, os\n",
    "if os.name == 'nt':\n",
    "    stata_setup.config('C:/Program Files/Stata17/','mp')\n",
    "else:\n",
    "    stata_setup.config('/usr/local/stata17','mp')"
   ]
  },
  {
   "cell_type": "code",
   "execution_count": 2,
   "id": "0a840f77-016f-4994-8685-7b904225d65a",
   "metadata": {},
   "outputs": [
    {
     "name": "stdout",
     "output_type": "stream",
     "text": [
      "\n"
     ]
    }
   ],
   "source": [
    "%%stata -qui\n",
    "\n",
    "use \"../data/data\", clear\n",
    "rename log_flesch_kincaid_grade_level FKG\n",
    "quietly tabulate year, generate(y_)\n",
    "quietly tabulate cluster, generate(c_)\n",
    "\n",
    "local journals  ecm jpe qje res  //AER based category\n",
    "\n",
    "local jel_imp a_imp b_imp c_imp  e_imp f_imp g_imp h_imp i_imp j_imp k_imp /// \n",
    "\t\tl_imp m_imp n_imp o_imp p_imp q_imp r_imp y_imp z_imp // D JEL based case"
   ]
  },
  {
   "cell_type": "markdown",
   "id": "9210ce92-8ed6-4a2e-b3de-341b6b677ee7",
   "metadata": {},
   "source": [
    "## Ridge Regression"
   ]
  },
  {
   "cell_type": "markdown",
   "id": "7a3ea8a2-ed77-44ac-936f-89b1a8e26d40",
   "metadata": {},
   "source": [
    "The ridge regression estimator\n",
    "\n",
    "$$\n",
    "\\widehat{\\beta}_{\\text {ridge }}=\\left(\\boldsymbol{X}^{\\prime} \\boldsymbol{X}+\\lambda \\boldsymbol{I}_{p}\\right)^{-1} \\boldsymbol{X}^{\\prime} \\boldsymbol{Y}\n",
    "$$\n",
    "\n",
    "where $\\lambda>0$ is called the _ridge_ parameter."
   ]
  },
  {
   "cell_type": "code",
   "execution_count": 3,
   "id": "7726c11f-0f24-49dc-a394-a73a69c8abee",
   "metadata": {},
   "outputs": [
    {
     "name": "stdout",
     "output_type": "stream",
     "text": [
      "\n"
     ]
    }
   ],
   "source": [
    "%%stata -qui -eret steret\n",
    "#delimit ;\n",
    "quietly elasticnet linear FKG log_num_authors log_num_pages both_genders prop_women\n",
    "        `journals' `jel_imp' y_2-y_20  c_2-c_215  jel_flag, alpha(0) lambda(5.34) nolog;\n",
    "#delimit cr"
   ]
  },
  {
   "cell_type": "code",
   "execution_count": 4,
   "id": "81fe7d3d-b5f8-461c-b34d-1af805a14c2f",
   "metadata": {},
   "outputs": [
    {
     "data": {
      "text/plain": [
       "array([[-0.001,  0.002, -0.001, -0.003,  0.005, -0.003, -0.001,  0.002,\n",
       "        -0.005, -0.003,  0.004, -0.001, -0.001, -0.001, -0.000,  0.000,\n",
       "        -0.002, -0.003, -0.003, -0.004, -0.000,  0.000,  0.005,  0.003,\n",
       "        -0.001,  0.004, -0.004,  0.003,  0.000, -0.001, -0.002, -0.002,\n",
       "        -0.001, -0.002, -0.001, -0.001, -0.003,  0.001,  0.003, -0.000,\n",
       "         0.002, -0.001,  0.002,  0.003, -0.001, -0.002,  0.026,  0.052,\n",
       "         0.015,  0.015,  0.002,  0.007, -0.001,  0.000,  0.002,  0.039,\n",
       "         0.050, -0.003,  0.002,  0.034, -0.014, -0.031, -0.025, -0.012,\n",
       "         0.010, -0.014, -0.016, -0.001,  0.024, -0.007,  0.009,  0.002,\n",
       "         0.026, -0.015, -0.005, -0.026,  0.027, -0.022, -0.056, -0.002,\n",
       "        -0.021,  0.020,  0.007,  0.005,  0.037,  0.006, -0.004, -0.015,\n",
       "         0.009, -0.008, -0.010,  0.009, -0.056, -0.004, -0.026, -0.013,\n",
       "        -0.020, -0.001, -0.031, -0.025, -0.003, -0.004,  0.025, -0.006,\n",
       "         0.000,  0.030,  0.024,  0.012,  0.043,  0.005, -0.000,  0.007,\n",
       "        -0.017, -0.008, -0.018,  0.050, -0.024,  0.017, -0.003,  0.016,\n",
       "        -0.021,  0.013,  0.018, -0.013,  0.004,  0.005, -0.011,  0.016,\n",
       "        -0.047,  0.027,  0.021, -0.013, -0.002,  0.009,  0.012, -0.003,\n",
       "        -0.023,  0.016,  0.007, -0.000,  0.039,  0.001, -0.009,  0.021,\n",
       "        -0.022,  0.016,  0.004,  0.004, -0.002, -0.036, -0.009, -0.001,\n",
       "        -0.007, -0.004, -0.011, -0.014, -0.016,  0.030, -0.018, -0.002,\n",
       "        -0.008,  0.024, -0.009, -0.005, -0.014, -0.029, -0.028, -0.014,\n",
       "        -0.004, -0.015, -0.010, -0.013, -0.015,  0.007, -0.020,  0.012,\n",
       "         0.008, -0.040,  0.005,  0.004, -0.011, -0.000,  0.000,  0.035,\n",
       "         0.017, -0.028,  0.026, -0.004,  0.013, -0.040,  0.008,  0.014,\n",
       "         0.000,  0.009,  0.007, -0.018, -0.015,  0.012,  0.010,  0.018,\n",
       "         0.013, -0.010,  0.001,  0.053,  0.036,  0.003, -0.000, -0.013,\n",
       "        -0.010,  0.025,  0.002, -0.005, -0.003, -0.005, -0.018,  0.007,\n",
       "         0.000,  0.028, -0.047, -0.007, -0.021, -0.049, -0.023,  0.046,\n",
       "         0.029,  0.015,  0.019, -0.032, -0.016, -0.030,  0.036,  0.007,\n",
       "        -0.010,  0.014,  0.029,  0.013, -0.020,  0.005, -0.013,  0.026,\n",
       "         0.012,  0.015, -0.003, -0.016,  0.033, -0.011, -0.030,  0.014,\n",
       "        -0.031,  0.032, -0.002,  2.724]])"
      ]
     },
     "execution_count": 4,
     "metadata": {},
     "output_type": "execute_result"
    }
   ],
   "source": [
    "import numpy as np\n",
    "np.set_printoptions(formatter={'float': '{: 0.3f}'.format})\n",
    "steret['e(b)']"
   ]
  },
  {
   "cell_type": "code",
   "execution_count": null,
   "id": "f95b921d-414b-43de-b2f9-53c798088d3c",
   "metadata": {},
   "outputs": [
    {
     "name": "stdout",
     "output_type": "stream",
     "text": [
      "\n",
      ". #delimit ;\n",
      "delimiter now ;\n",
      ". elasticnet linear FKG log_num_authors log_num_pages both_genders prop_women\n",
      ">         `journals' `jel_imp' y_2-y_20  c_2-c_215  jel_flag,\n",
      ">         alpha(0) lambda(1.3(.1)1.5) folds(4988) nolog;\n"
     ]
    }
   ],
   "source": [
    "%%stata\n",
    "#delimit ;\n",
    "elasticnet linear FKG log_num_authors log_num_pages both_genders prop_women\n",
    "        `journals' `jel_imp' y_2-y_20  c_2-c_215  jel_flag,\n",
    "        alpha(0) lambda(1.3(.1)1.5) folds(4988) nolog;\n",
    "#delimit cr"
   ]
  },
  {
   "cell_type": "code",
   "execution_count": null,
   "id": "4d86613b-236c-44cb-81ae-8992417949d8",
   "metadata": {},
   "outputs": [],
   "source": [
    "%%stata -qui\n",
    "#delimit ;\n",
    "elasticnet linear FKG log_num_authors log_num_pages both_genders prop_women\n",
    "        `journals' `jel_imp' y_2-y_20  c_2-c_215  jel_flag,\n",
    "        alpha(0) lambda(1.4) nolog;\n",
    "#delimit cr"
   ]
  },
  {
   "cell_type": "code",
   "execution_count": null,
   "id": "2ade78df-f5b3-4566-826b-6fceca66aa67",
   "metadata": {},
   "outputs": [],
   "source": [
    "%stata matrix list r(table)"
   ]
  },
  {
   "cell_type": "code",
   "execution_count": null,
   "id": "05752cc3-3a9e-4fdf-bf15-4b747e572292",
   "metadata": {},
   "outputs": [],
   "source": [
    "%%stata\n",
    "predict FKG_hat, xb\n",
    "gen ehat = FKG - FKG_hat\n",
    "set scheme s1mono\n",
    "histogram ehat"
   ]
  }
 ],
 "metadata": {
  "kernelspec": {
   "display_name": "Python 3 (ipykernel)",
   "language": "python",
   "name": "python3"
  },
  "language_info": {
   "codemirror_mode": {
    "name": "ipython",
    "version": 3
   },
   "file_extension": ".py",
   "mimetype": "text/x-python",
   "name": "python",
   "nbconvert_exporter": "python",
   "pygments_lexer": "ipython3",
   "version": "3.11.0"
  },
  "vscode": {
   "interpreter": {
    "hash": "11938c6bc6919ae2720b4d5011047913343b08a43b18698fd82dedb0d4417594"
   }
  }
 },
 "nbformat": 4,
 "nbformat_minor": 5
}
